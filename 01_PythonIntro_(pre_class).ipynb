{
  "cells": [
    {
      "cell_type": "markdown",
      "metadata": {
        "id": "view-in-github",
        "colab_type": "text"
      },
      "source": [
        "<a href=\"https://colab.research.google.com/github/HamidurRahman-GitH/github.io/blob/main/01_PythonIntro_(pre_class).ipynb\" target=\"_parent\"><img src=\"https://colab.research.google.com/assets/colab-badge.svg\" alt=\"Open In Colab\"/></a>"
      ]
    },
    {
      "cell_type": "markdown",
      "id": "22fbd44e-7905-4be2-b600-3335cc4577ef",
      "metadata": {
        "deletable": false,
        "editable": false,
        "nbgrader": {
          "cell_type": "markdown",
          "checksum": "30d7537cb6b5bbf151be1e888c4b2476",
          "grade": false,
          "grade_id": "cell-ab73bb44c9419adb",
          "locked": true,
          "schema_version": 3,
          "solution": false,
          "task": false
        },
        "id": "22fbd44e-7905-4be2-b600-3335cc4577ef"
      },
      "source": [
        "# Pre-class exercise: Introduction to Data Science\n",
        "(Remixed from: [Data Science: A First Introduction--Python Edition)](https://worksheets.python.datasciencebook.ca/)\n",
        "\n",
        "Welcome to ***CRP 384: Regional Data Science for Mobility Justice***  \n",
        "\n",
        "We'll sometimes have a pre-class assignment that you'll complete prior to meeting with the full class on Thursdays.\n",
        "\n",
        "The idea behind these assignments is that you can't learn technical subjects without hands-on practice. These types of data exercises will be an important part of the course.\n",
        "\n",
        "You are all adults. You are responsible for completing these exercises on your own.\n",
        "\n",
        "Collaborating on these pre-class assignments is more than okay -- it's encouraged! You should rarely be stuck for more than a few minutes on questions in lecture or tutorial, so don't hesitate to ask a colleague or me for help (explaining things is beneficial, too -- the best way to solidify your knowledge of a subject is to explain it). You can also consult with AI-based LLMs, but I don't think it'll be that useful to have them just answer the question for you. Make sure you understand whatever solution they spit out.\n",
        "\n",
        "### Learning objectives:\n",
        "\n",
        "After completing this pre-class assignment, you will be able to:\n",
        "\n",
        "* use a Jupyter notebook via Goolge Colab to execute provided Python code\n",
        "* edit code and markdown cells in a Jupyter notebook\n",
        "* create new code and markdown cells in a Jupyter notebook\n",
        "* load the `pandas` package into Python\n",
        "* create new variables and objects in Python\n",
        "* use the help and documentation tools in Python\n",
        "* perform the following operations from the `pandas` package:\n",
        "    - Read a standard .csv file using `read_csv`.\n",
        "    - subset rows and columns of a data frame using `loc[]`.\n",
        "    - select columns of a dataframe using `[]`.\n",
        "    - create a new column of a dataframe using `assign`.\n",
        "\n",
        "In this first notebook you will also learn how to test your answersto assess whether they're correct.\n",
        "\n",
        "This worksheet covers parts of [the Introduction chapter](https://python.datasciencebook.ca/intro.html) of an online textbook called ***Data Science: A First Introduction (Python Edition)***. In most notebooks, I'll expect you to read the textbook chapters before completing the worksheet, however I know that might not have been possible this time, so I've added a bit more context to assist as you work through the content."
      ]
    },
    {
      "cell_type": "markdown",
      "id": "918f6020-9762-46e2-a984-45f17d4bbcf0",
      "metadata": {
        "id": "918f6020-9762-46e2-a984-45f17d4bbcf0"
      },
      "source": [
        "## 1. Jupyter Notebooks\n",
        "This webpage is called a \"Jupyter notebook.\" A notebook is a place to write computer code for analysis, view the results of the analysis, as well as to narrate the analysis with rich formatted text.\n",
        "\n",
        "### 1.1. Text Cells\n",
        "In a notebook, each rectangle containing text or code is called a *cell*.\n",
        "\n",
        "Text cells (like this one) can be edited by double-clicking on them. They're written in a simple format called [Markdown](http://daringfireball.net/projects/markdown/syntax) to add formatting and section headings.  You don't need to learn Markdown, but you might want to.\n",
        "\n",
        "After you edit a text cell, confirm the changes by clicking out of the cell or hitting shift-enter. (Try not to delete the instructions of the lab.)"
      ]
    },
    {
      "cell_type": "markdown",
      "id": "123e5c30-f998-4902-904b-89b8614e51ac",
      "metadata": {
        "id": "123e5c30-f998-4902-904b-89b8614e51ac"
      },
      "source": [
        "**Question 1.1.1**<br>\n",
        "This paragraph is in its own text cell.  Try editing it so that all of the sentences following this one are deleted, then click out of the cell or hit shift-enter.  This sentence, for example, should be deleted.  So should this one."
      ]
    },
    {
      "cell_type": "markdown",
      "id": "fa461635-3e32-4f47-b224-1da3e30f8c32",
      "metadata": {
        "deletable": false,
        "editable": false,
        "nbgrader": {
          "cell_type": "markdown",
          "checksum": "a3f9fb9fd681b9512391d2fe287c7224",
          "grade": false,
          "grade_id": "cell-1bcb95d0b1db3765",
          "locked": true,
          "schema_version": 3,
          "solution": false,
          "task": false
        },
        "id": "fa461635-3e32-4f47-b224-1da3e30f8c32"
      },
      "source": [
        "### 1.2. Code Cells\n",
        "Other cells contain code in the Python language. Running a code cell will execute all of the code it contains.\n",
        "\n",
        "To run the code in a cell, first click on that cell to activate it. Next, either press Run ▶ or hold down the `shift` key and press `return` or `enter`.\n",
        "\n",
        "Try running the next cell:"
      ]
    },
    {
      "cell_type": "code",
      "execution_count": 1,
      "id": "921efaf9-1898-4714-abbe-d3e2c3f2a649",
      "metadata": {
        "id": "921efaf9-1898-4714-abbe-d3e2c3f2a649",
        "outputId": "d074e13a-b977-4686-89dd-e011699e3353",
        "colab": {
          "base_uri": "https://localhost:8080/"
        }
      },
      "outputs": [
        {
          "output_type": "stream",
          "name": "stdout",
          "text": [
            "Hello, World!\n"
          ]
        }
      ],
      "source": [
        "print(\"Hello, World!\")"
      ]
    },
    {
      "cell_type": "markdown",
      "id": "a328045c-feb3-4b45-8f03-2159e6ed0a2a",
      "metadata": {
        "deletable": false,
        "editable": false,
        "nbgrader": {
          "cell_type": "markdown",
          "checksum": "cfa55ff88b8edef774b86185d1f401c7",
          "grade": false,
          "grade_id": "cell-488f473e002dc27f",
          "locked": true,
          "schema_version": 3,
          "solution": false,
          "task": false
        },
        "id": "a328045c-feb3-4b45-8f03-2159e6ed0a2a"
      },
      "source": [
        "The above code cell contains a single line of code, but cells can also contain multiple lines of code. When you run a cell, the lines of code are executed in the order in which they appear. Every `print` expression prints a line. Run the next cell and notice the order of the output."
      ]
    },
    {
      "cell_type": "code",
      "execution_count": null,
      "id": "e07a90fe-6165-49ee-8ef9-4a6908803eec",
      "metadata": {
        "id": "e07a90fe-6165-49ee-8ef9-4a6908803eec"
      },
      "outputs": [],
      "source": [
        "print(\"First this line is printed,\")\n",
        "print(\"and then this one.\")"
      ]
    },
    {
      "cell_type": "markdown",
      "id": "c6c36a89-fd46-45ee-999f-b06e02face86",
      "metadata": {
        "deletable": false,
        "editable": false,
        "nbgrader": {
          "cell_type": "markdown",
          "checksum": "a513fcdd41d7ad6f84648eae8e72b441",
          "grade": false,
          "grade_id": "cell-3e71ba8e076aadc4",
          "locked": true,
          "schema_version": 3,
          "solution": false,
          "task": false
        },
        "id": "c6c36a89-fd46-45ee-999f-b06e02face86"
      },
      "source": [
        "**Question 1.2.1**\n",
        "<br>\n",
        "\n",
        "Change the cell above so that it prints out:\n",
        "\n",
        "    First this line is printed,\n",
        "    and then the next line,\n",
        "    and then this one.\n",
        "\n",
        "*Hint:* If you're stuck for more than a few minutes, ask someone. That's a good idea for any notebook problem."
      ]
    },
    {
      "cell_type": "markdown",
      "id": "b82fc076-e177-4222-a076-34bc99c00f7c",
      "metadata": {
        "deletable": false,
        "editable": false,
        "nbgrader": {
          "cell_type": "markdown",
          "checksum": "8b90ab900a0b98adbac88edf8b9ee2e0",
          "grade": false,
          "grade_id": "cell-9e9042f97b98984a",
          "locked": true,
          "schema_version": 3,
          "solution": false,
          "task": false
        },
        "id": "b82fc076-e177-4222-a076-34bc99c00f7c"
      },
      "source": [
        "### 1.3. Writing Jupyter Notebooks\n",
        "You can use Jupyter notebooks for your own projects or documents.  When you make your own notebook, you'll need to create your own cells for text and code.\n",
        "\n",
        "To add a cell, click the + code or + text button at the top of the window."
      ]
    },
    {
      "cell_type": "markdown",
      "id": "ae421ba1-618e-4461-b02d-7af6df87a4d1",
      "metadata": {
        "deletable": false,
        "editable": false,
        "nbgrader": {
          "cell_type": "markdown",
          "checksum": "5541afe8b35cc69f02f5060873126689",
          "grade": false,
          "grade_id": "cell-83c7e7fa61f10648",
          "locked": true,
          "schema_version": 3,
          "solution": false,
          "task": false
        },
        "id": "ae421ba1-618e-4461-b02d-7af6df87a4d1"
      },
      "source": [
        "**Question 1.3.1**\n",
        "<br>\n",
        "\n",
        "Add a code cell below this one.  Write code in it that prints out:\n",
        "   \n",
        "    A whole new code cell!\n",
        "\n",
        "Run your cell to verify that it works."
      ]
    },
    {
      "cell_type": "markdown",
      "id": "d69dec82-8a35-43ba-ac23-5275095fc5cd",
      "metadata": {
        "deletable": false,
        "editable": false,
        "nbgrader": {
          "cell_type": "markdown",
          "checksum": "2193d667364f4656d9ce4cb9a0365d1c",
          "grade": false,
          "grade_id": "cell-9bbc9bcea523bb72",
          "locked": true,
          "schema_version": 3,
          "solution": false,
          "task": false
        },
        "id": "d69dec82-8a35-43ba-ac23-5275095fc5cd"
      },
      "source": [
        "**Question 1.3.2**\n",
        "<br>\n",
        "\n",
        "Add a text/Markdown cell below this one. Write the text \"A whole new Markdown cell\" in it."
      ]
    },
    {
      "cell_type": "markdown",
      "id": "6329eb66-a8f0-4fcb-9705-9b5705c9e629",
      "metadata": {
        "deletable": false,
        "editable": false,
        "nbgrader": {
          "cell_type": "markdown",
          "checksum": "1d00e79a45988af22528aff9bf1f3a40",
          "grade": false,
          "grade_id": "cell-bfb007543b14d1cb",
          "locked": true,
          "schema_version": 3,
          "solution": false,
          "task": false
        },
        "id": "6329eb66-a8f0-4fcb-9705-9b5705c9e629"
      },
      "source": [
        "### 1.4. Comments\n",
        "You will sometimes see lines like this in code cells:\n",
        "\n",
        "    # Test cell; please do not change!\n",
        "\n",
        "That is called a *comment*.  It doesn't make anything happen in Python; Python ignores anything on a line after a #.  Instead, it's there to communicate something about the code to you, the human reader.  Comments are extremely useful and can help increase how readable our code is.\n",
        "\n",
        "<img src=\"http://imgs.xkcd.com/comics/future_self.png\">\n",
        "\n",
        "*Source: https://xkcd.com/1421/*"
      ]
    },
    {
      "cell_type": "markdown",
      "id": "abf0f646",
      "metadata": {
        "deletable": false,
        "editable": false,
        "nbgrader": {
          "cell_type": "markdown",
          "checksum": "25d7e12237e87a3fdfc9b4e3eb09d8c6",
          "grade": false,
          "grade_id": "cell-75bfe4b544638250",
          "locked": true,
          "schema_version": 3,
          "solution": false,
          "task": false
        },
        "id": "abf0f646"
      },
      "source": [
        "The below code cell contains comments (one at the start of a line, and one after some other code). Run the cell. You will see that everything after a comment symbol `#` is ignored by Python."
      ]
    },
    {
      "cell_type": "code",
      "execution_count": null,
      "id": "6d6c61d3",
      "metadata": {
        "deletable": false,
        "editable": false,
        "nbgrader": {
          "cell_type": "code",
          "checksum": "526ff505505e36ff7b6136c354277c37",
          "grade": false,
          "grade_id": "cell-d093fd3fe06e79c6",
          "locked": true,
          "schema_version": 3,
          "solution": false,
          "task": false
        },
        "id": "6d6c61d3"
      },
      "outputs": [],
      "source": [
        "# you can use comments to document your code, or make Python ignore some code without deleting it entirely\n",
        "# print(\"this is a commented line that Python will ignore. You won't see this text in the output!\")\n",
        "\n",
        "print(\"hello!\") # you can also put comments at the end of a line of code"
      ]
    },
    {
      "cell_type": "markdown",
      "id": "de1c67bb-15ce-49d4-b1b7-b263d1173a8d",
      "metadata": {
        "deletable": false,
        "editable": false,
        "nbgrader": {
          "cell_type": "markdown",
          "checksum": "034981204275e7b44a9beefd7b0f16cb",
          "grade": false,
          "grade_id": "cell-849c6b93d0cacce4",
          "locked": true,
          "schema_version": 3,
          "solution": false,
          "task": false
        },
        "id": "de1c67bb-15ce-49d4-b1b7-b263d1173a8d"
      },
      "source": [
        "### 1.5. Errors\n",
        "Python is a language, and like natural human languages, it has rules.  It differs from natural language in two important ways:\n",
        "1. The rules are *simple*.  You can learn most of them in a few weeks and gain reasonable proficiency with the language in a semester.\n",
        "2. The rules are *rigid*.  If you're proficient in a natural language, you can understand a non-proficient speaker, glossing over small mistakes.  A computer running Python code is not smart enough to do that.\n",
        "\n",
        "Whenever you write code, you'll make mistakes (everyone who writes code does, even--and especially--me!).  When you run a code cell that has errors, Python will sometimes produce error messages to tell you what you did wrong.\n",
        "\n",
        "Errors are okay; even experienced programmers make many errors.  When you make an error, you just have to find the source of the problem, fix it, and move on.\n",
        "\n",
        "We have made an error in the next cell.  Uncomment the line below, run the cell and see what happens."
      ]
    },
    {
      "cell_type": "code",
      "execution_count": null,
      "id": "4c077e3a-1bdc-4092-80c7-ff82493b8e6c",
      "metadata": {
        "id": "4c077e3a-1bdc-4092-80c7-ff82493b8e6c"
      },
      "outputs": [],
      "source": [
        "#print(\"This line is missing something.\""
      ]
    },
    {
      "cell_type": "markdown",
      "id": "cd675d23-7a4f-469b-90ce-f35b1eb7c10a",
      "metadata": {
        "deletable": false,
        "editable": false,
        "nbgrader": {
          "cell_type": "markdown",
          "checksum": "e4fb59f09fe931053806a828a6bce1fc",
          "grade": false,
          "grade_id": "cell-7f7efb59fbede5af",
          "locked": true,
          "schema_version": 3,
          "solution": false,
          "task": false
        },
        "id": "cd675d23-7a4f-469b-90ce-f35b1eb7c10a"
      },
      "source": [
        "There's a lot of terminology in programming languages, but you don't need to know it all in order to program effectively. If you see a cryptic message like this, you can often get by without deciphering it.  (Of course, if you're frustrated, ask asomeone for help.)\n",
        "\n",
        "Try to fix the code above so that you can run the cell and see the intended message instead of an error."
      ]
    },
    {
      "cell_type": "markdown",
      "id": "4c614525-6303-43e1-b71e-c0253c742ba4",
      "metadata": {
        "deletable": false,
        "editable": false,
        "nbgrader": {
          "cell_type": "markdown",
          "checksum": "ffc73d4b1974c2b9ac3424ac36e3b7eb",
          "grade": false,
          "grade_id": "cell-a7ef9e28949bda19",
          "locked": true,
          "schema_version": 3,
          "solution": false,
          "task": false
        },
        "id": "4c614525-6303-43e1-b71e-c0253c742ba4"
      },
      "source": [
        "### 1.6 Saving your work\n",
        "\n",
        "Its important to save your work often so you don't lose your progress! When working in Google Colab, edits will be saved automatically. When we transition to other platforms later, we'll have to take actions to save our work."
      ]
    },
    {
      "cell_type": "markdown",
      "id": "034de303-a57b-4b89-a15c-3297ca068f9e",
      "metadata": {
        "deletable": false,
        "editable": false,
        "nbgrader": {
          "cell_type": "markdown",
          "checksum": "04959ad7f2f398117e45ffd555a16c2d",
          "grade": false,
          "grade_id": "cell-1c65ecccc4d7e214",
          "locked": true,
          "schema_version": 3,
          "solution": false,
          "task": false
        },
        "id": "034de303-a57b-4b89-a15c-3297ca068f9e"
      },
      "source": [
        "## 2. Numbers\n",
        "Quantitative information arises everywhere in data science. In addition to representing commands to print out lines, our Python code can represent numbers and methods of combining numbers. The expression `3.2500` evaluates to the number 3.25. (Run the cell and see.)"
      ]
    },
    {
      "cell_type": "code",
      "execution_count": null,
      "id": "831ed388-9ffa-4665-96fb-8861ab027bd7",
      "metadata": {
        "id": "831ed388-9ffa-4665-96fb-8861ab027bd7"
      },
      "outputs": [],
      "source": [
        "3.2500"
      ]
    },
    {
      "cell_type": "markdown",
      "id": "7a469f28",
      "metadata": {
        "deletable": false,
        "editable": false,
        "nbgrader": {
          "cell_type": "markdown",
          "checksum": "7fcf051f0daa54bdee28d5eb6747f79a",
          "grade": false,
          "grade_id": "cell-face499c0dec1453",
          "locked": true,
          "schema_version": 3,
          "solution": false,
          "task": false
        },
        "id": "7a469f28"
      },
      "source": [
        "Notice that we didn't have to write `print()`. When you run a notebook cell, Jupyter will helpfully print the last output for you. So in the below cell, the last statement just evaluates to `4`, so it prints `4` (remember -- each line in a cell is a separate line of code!)"
      ]
    },
    {
      "cell_type": "code",
      "execution_count": null,
      "id": "ad9cd7da-67cd-405b-9ce9-cb678864072b",
      "metadata": {
        "id": "ad9cd7da-67cd-405b-9ce9-cb678864072b"
      },
      "outputs": [],
      "source": [
        "2\n",
        "3\n",
        "4"
      ]
    },
    {
      "cell_type": "markdown",
      "id": "acb74ff6-fdcd-4541-ab76-ead35970a09d",
      "metadata": {
        "deletable": false,
        "editable": false,
        "nbgrader": {
          "cell_type": "markdown",
          "checksum": "8fb9235067412c6e64be74d6c6fa029e",
          "grade": false,
          "grade_id": "cell-4d62c33be470a93d",
          "locked": true,
          "schema_version": 3,
          "solution": false,
          "task": false
        },
        "id": "acb74ff6-fdcd-4541-ab76-ead35970a09d"
      },
      "source": [
        "If you want to print out results from earlier lines in the cell, you need to use the `print` function."
      ]
    },
    {
      "cell_type": "code",
      "execution_count": null,
      "id": "5f153b4e",
      "metadata": {
        "id": "5f153b4e"
      },
      "outputs": [],
      "source": [
        "print(2)\n",
        "print(3)\n",
        "print(4)"
      ]
    },
    {
      "cell_type": "markdown",
      "id": "a9d71451-ec95-47aa-81a9-332ebb27c460",
      "metadata": {
        "deletable": false,
        "editable": false,
        "nbgrader": {
          "cell_type": "markdown",
          "checksum": "563f281886e99f12faf0e2c3667584c0",
          "grade": false,
          "grade_id": "cell-5fea0d5af754c58d",
          "locked": true,
          "schema_version": 3,
          "solution": false,
          "task": false
        },
        "id": "a9d71451-ec95-47aa-81a9-332ebb27c460"
      },
      "source": [
        "### 2.1. Arithmetic\n",
        "The line in the next cell subtracts.  Its value is what you'd expect.  Run it."
      ]
    },
    {
      "cell_type": "code",
      "execution_count": null,
      "id": "cbce8d82-dcee-4a5c-8267-5316fabcde0c",
      "metadata": {
        "id": "cbce8d82-dcee-4a5c-8267-5316fabcde0c"
      },
      "outputs": [],
      "source": [
        "2.0 - 1.5"
      ]
    },
    {
      "cell_type": "markdown",
      "id": "d811ac4d-3181-45b7-b3fe-50ea6faefc59",
      "metadata": {
        "deletable": false,
        "editable": false,
        "nbgrader": {
          "cell_type": "markdown",
          "checksum": "66827e53abefdc3df845e02fac624a70",
          "grade": false,
          "grade_id": "cell-5654443ee25ba5cf",
          "locked": true,
          "schema_version": 3,
          "solution": false,
          "task": false
        },
        "id": "d811ac4d-3181-45b7-b3fe-50ea6faefc59"
      },
      "source": [
        "Same with the cell below. Run it."
      ]
    },
    {
      "cell_type": "code",
      "execution_count": null,
      "id": "56b2fe4f-40c1-430d-b126-36605a67bd8e",
      "metadata": {
        "id": "56b2fe4f-40c1-430d-b126-36605a67bd8e"
      },
      "outputs": [],
      "source": [
        "2 * 2"
      ]
    },
    {
      "cell_type": "markdown",
      "id": "cca53c44-0d69-4ca2-852d-0ba434ede965",
      "metadata": {
        "deletable": false,
        "editable": false,
        "nbgrader": {
          "cell_type": "markdown",
          "checksum": "3fb7a52db42a3aff67d2b3b22326f325",
          "grade": false,
          "grade_id": "cell-19aea892bc204b26",
          "locked": true,
          "schema_version": 3,
          "solution": false,
          "task": false
        },
        "id": "cca53c44-0d69-4ca2-852d-0ba434ede965"
      },
      "source": [
        "Many basic arithmetic operations are built in to Python.  [This webpage](https://docs.python.org/3.9/library/operator.html) describes all the arithmetic operators used in the course.  You can refer back to this webpage as you need throughout the term."
      ]
    },
    {
      "cell_type": "markdown",
      "id": "10e156f7-ea0d-4afc-a14e-bf5811811fbd",
      "metadata": {
        "deletable": false,
        "editable": false,
        "nbgrader": {
          "cell_type": "markdown",
          "checksum": "69b4f214e84cc2aadfc8184238ddf6b9",
          "grade": false,
          "grade_id": "cell-0d71d6720cd9a9f8",
          "locked": true,
          "schema_version": 3,
          "solution": false,
          "task": false
        },
        "id": "10e156f7-ea0d-4afc-a14e-bf5811811fbd"
      },
      "source": [
        "## 3. Names\n",
        "In natural language, we have terminology that lets us quickly reference very complicated concepts.  We don't say, \"That's a large mammal with brown fur and sharp teeth!\"  Instead, we just say, \"Bear!\"\n",
        "\n",
        "Similarly, an effective strategy for writing code is to define names for data as we compute it, like a lawyer would define terms for complex ideas at the start of a legal document to simplify the rest of the writing.\n",
        "\n",
        "In Python, we do this with *objects*. An object has a name on the left side of an `=` sign and an expression to be evaluated on the right."
      ]
    },
    {
      "cell_type": "code",
      "execution_count": null,
      "id": "853d8f95-2a68-4acb-8b79-35e117774604",
      "metadata": {
        "id": "853d8f95-2a68-4acb-8b79-35e117774604"
      },
      "outputs": [],
      "source": [
        "answer = 3 * 2 + 4"
      ]
    },
    {
      "cell_type": "markdown",
      "id": "e963475e-3211-4b00-930d-7730808e9bb9",
      "metadata": {
        "deletable": false,
        "editable": false,
        "nbgrader": {
          "cell_type": "markdown",
          "checksum": "7d9643aad84e0f43cf79623f1245ff72",
          "grade": false,
          "grade_id": "cell-8611f073ac17f64d",
          "locked": true,
          "schema_version": 3,
          "solution": false,
          "task": false
        },
        "id": "e963475e-3211-4b00-930d-7730808e9bb9"
      },
      "source": [
        "When you run that cell, Python first evaluates the first line.  It computes the value of the expression `3 * 2 + 4`, which is the number 10.  Then it gives that value the name `answer`.  At that point, the code in the cell is done running.\n",
        "\n",
        "After you run that cell, the value 10 is bound to the name `answer`:"
      ]
    },
    {
      "cell_type": "code",
      "execution_count": null,
      "id": "647858da-7756-474d-a9bf-d8cfa3a9d36e",
      "metadata": {
        "id": "647858da-7756-474d-a9bf-d8cfa3a9d36e"
      },
      "outputs": [],
      "source": [
        "answer"
      ]
    },
    {
      "cell_type": "markdown",
      "id": "c9f8afcb-c04c-4d18-aea8-1d7c73113ae1",
      "metadata": {
        "deletable": false,
        "editable": false,
        "nbgrader": {
          "cell_type": "markdown",
          "checksum": "fc4979ab991f4561557c0095eb1308e8",
          "grade": false,
          "grade_id": "cell-aed2d4b98da49612",
          "locked": true,
          "schema_version": 3,
          "solution": false,
          "task": false
        },
        "id": "c9f8afcb-c04c-4d18-aea8-1d7c73113ae1"
      },
      "source": [
        "We can name our objects anything we'd like. Above we called it `answer`, but we could have named it `value`, `data` or anything else we desired. A good rule of thumb is to name it something that has meaning to a human as it relates to what we are trying to accomplish with our Python code.\n",
        "\n",
        "**Question 3.1**\n",
        "<br>\n",
        "\n",
        "Enter a new code cell. Try creating another object using `= 3 * 2 + 4` with a name different from `answer`."
      ]
    },
    {
      "cell_type": "markdown",
      "id": "9fed7362-ef5e-43b8-90f3-64d487115266",
      "metadata": {
        "deletable": false,
        "editable": false,
        "nbgrader": {
          "cell_type": "markdown",
          "checksum": "78845b58d401157d3d70f99118bdfdf5",
          "grade": false,
          "grade_id": "cell-3c6ca4081bbf327a",
          "locked": true,
          "schema_version": 3,
          "solution": false,
          "task": false
        },
        "id": "9fed7362-ef5e-43b8-90f3-64d487115266"
      },
      "source": [
        "A common pattern in Jupyter notebooks is to assign a value to a name and then immediately evaluate the name in the last line in the cell so that the value is displayed as output."
      ]
    },
    {
      "cell_type": "code",
      "execution_count": null,
      "id": "baec3a6e-583f-4d15-b510-2eb251bcd8b6",
      "metadata": {
        "id": "baec3a6e-583f-4d15-b510-2eb251bcd8b6"
      },
      "outputs": [],
      "source": [
        "close_to_pi = 355 / 113\n",
        "close_to_pi"
      ]
    },
    {
      "cell_type": "markdown",
      "id": "7ff03dd1-f013-4e5a-af88-12c5d8afd964",
      "metadata": {
        "deletable": false,
        "editable": false,
        "nbgrader": {
          "cell_type": "markdown",
          "checksum": "3beed41b7586acf3bf09f965b89691ec",
          "grade": false,
          "grade_id": "cell-f932083064e1df68",
          "locked": true,
          "schema_version": 3,
          "solution": false,
          "task": false
        },
        "id": "7ff03dd1-f013-4e5a-af88-12c5d8afd964"
      },
      "source": [
        "Another common pattern is that a series of lines in a single cell will build up a complex computation in stages, naming the intermediate results."
      ]
    },
    {
      "cell_type": "code",
      "execution_count": null,
      "id": "939bd12c-160e-4606-8d28-1c412a6cec99",
      "metadata": {
        "id": "939bd12c-160e-4606-8d28-1c412a6cec99"
      },
      "outputs": [],
      "source": [
        "bimonthly_salary = 840\n",
        "monthly_salary = 2 * bimonthly_salary\n",
        "number_of_months_in_a_year = 12\n",
        "yearly_salary = number_of_months_in_a_year * monthly_salary\n",
        "yearly_salary"
      ]
    },
    {
      "cell_type": "markdown",
      "id": "2f437665-d480-439b-8a72-a8203207b7c4",
      "metadata": {
        "deletable": false,
        "editable": false,
        "nbgrader": {
          "cell_type": "markdown",
          "checksum": "323eb297253aed6bd0991d12f1162b5c",
          "grade": false,
          "grade_id": "cell-587d029e8d438b16",
          "locked": true,
          "schema_version": 3,
          "solution": false,
          "task": false
        },
        "id": "2f437665-d480-439b-8a72-a8203207b7c4"
      },
      "source": [
        "When naming objects in Python there are some rules:\n",
        "1. Names in Python can have letters (upper- and lower-case letters are both okay and count as different letters e.g. \"Answer\" and \"answer\" will be treated as different objects), underscores, and numbers.\n",
        "2. The first character can't be a number (otherwise a name might look like a number).  \n",
        "3. Names can't contain spaces, since spaces are used to separate pieces of code from each other. Instead, it is common to use an underscore character _ to replace each space.\n",
        "4. Names can't contain other special characters such as -, +, #, $, %, ^ since some characters have special roles in Python. Take # for example, this character specifies a comment within written code.\n",
        "\n",
        "Other than those rules, what you name something doesn't matter *to Python*.  For example, the next cell does the same thing as the above cell, except everything has a different name:"
      ]
    },
    {
      "cell_type": "code",
      "execution_count": null,
      "id": "c9625159-a0a7-4acc-887d-46840d5967b6",
      "metadata": {
        "id": "c9625159-a0a7-4acc-887d-46840d5967b6"
      },
      "outputs": [],
      "source": [
        "a = 840\n",
        "b = 2 * a\n",
        "c = 12\n",
        "d = c * b\n",
        "d"
      ]
    },
    {
      "cell_type": "markdown",
      "id": "27bb520b-9b82-4baf-965c-55328313fe9c",
      "metadata": {
        "deletable": false,
        "editable": false,
        "nbgrader": {
          "cell_type": "markdown",
          "checksum": "98439f1723c462c79f17e285170c2690",
          "grade": false,
          "grade_id": "cell-e691d889f5ce968f",
          "locked": true,
          "schema_version": 3,
          "solution": false,
          "task": false
        },
        "id": "27bb520b-9b82-4baf-965c-55328313fe9c"
      },
      "source": [
        "**However**, names are very important for making your code *readable* to yourself and others.  The cell above is shorter, but it's totally useless without an explanation of what it does.\n",
        "\n",
        "There is also cultural style associated with different programming languages. In the modern Python style, object names should use only lowercase letters, numbers, and `_`. Underscores (`_`) are typically used to separate words within a name (*e.g.*, `answer_one`)."
      ]
    },
    {
      "cell_type": "markdown",
      "id": "dfbf2566-65f5-47ec-b03a-19ba4801dd1e",
      "metadata": {
        "deletable": false,
        "editable": false,
        "nbgrader": {
          "cell_type": "markdown",
          "checksum": "f4606b76e0ba5c581fed24af2998ae1b",
          "grade": false,
          "grade_id": "cell-e3b7b5c83bc8c306",
          "locked": true,
          "schema_version": 3,
          "solution": false,
          "task": false
        },
        "id": "dfbf2566-65f5-47ec-b03a-19ba4801dd1e"
      },
      "source": [
        "**Question 3.2** <br>\n",
        "\n",
        "Assign the name `seconds_in_an_hour` to the number of seconds in an hour. You should do this in two steps. In the first, you calculate the number of seconds in a minute and assign that number the name `seconds_in_a_minute`. Next you should calculate the number of seconds in an hour and assign that number the name `seconds_in_an_hour.`  \n",
        "\n",
        "*Hint - there are 60 seconds in a minute and 60 minutes in a hour*"
      ]
    },
    {
      "cell_type": "code",
      "execution_count": null,
      "id": "7e5655e9-537f-4130-93d2-b9e47f31c3d8",
      "metadata": {
        "deletable": false,
        "nbgrader": {
          "cell_type": "code",
          "checksum": "cd263c0331b624871910185d399dc699",
          "grade": false,
          "grade_id": "cell-fa740c28d48570e9",
          "locked": false,
          "schema_version": 3,
          "solution": true,
          "task": false
        },
        "id": "7e5655e9-537f-4130-93d2-b9e47f31c3d8"
      },
      "outputs": [],
      "source": [
        "# your code here\n",
        "\n",
        "# I've put this line in this cell so that it will print\n",
        "# the value you've given to seconds_in_an_hour when you\n",
        "# run it.  You don't need to change this.\n",
        "seconds_in_an_hour"
      ]
    },
    {
      "cell_type": "markdown",
      "id": "6f426631-b348-4b95-a2cc-c45ee0389c7d",
      "metadata": {
        "deletable": false,
        "editable": false,
        "nbgrader": {
          "cell_type": "markdown",
          "checksum": "b15f9d960aef2353a8bdbfa8887247f4",
          "grade": false,
          "grade_id": "cell-7f896db3cee2f9be",
          "locked": true,
          "schema_version": 3,
          "solution": false,
          "task": false
        },
        "id": "6f426631-b348-4b95-a2cc-c45ee0389c7d"
      },
      "source": [
        "## 4. Calling Functions/Methods and Attributes\n",
        "\n",
        "The most common way to combine or manipulate values in Python is by calling functions or methods. Python comes with many built-in functions and methods that perform common operations. You can think of functions and methods as verbs that do things. And objects in Python like nouns, which are entities that exist.\n",
        "\n",
        "In the module, we explored examples of functions and methods such as `print`. Here, we'll demonstrate using another method `upper` that converts text to uppercase:"
      ]
    },
    {
      "cell_type": "code",
      "execution_count": null,
      "id": "a1ac2477-8e91-40d0-b35b-b8f2db18aea9",
      "metadata": {
        "id": "a1ac2477-8e91-40d0-b35b-b8f2db18aea9"
      },
      "outputs": [],
      "source": [
        "greeting = \"Why, hello there!\".upper()\n",
        "greeting"
      ]
    },
    {
      "cell_type": "markdown",
      "id": "e312aabe-7fb7-4668-b833-6b24ed40e071",
      "metadata": {
        "deletable": false,
        "editable": false,
        "nbgrader": {
          "cell_type": "markdown",
          "checksum": "c6837645e1a877c9a64b01ce0c1bfa9b",
          "grade": false,
          "grade_id": "cell-8c55b6ac0edfa9f3",
          "locked": true,
          "schema_version": 3,
          "solution": false,
          "task": false
        },
        "id": "e312aabe-7fb7-4668-b833-6b24ed40e071"
      },
      "source": [
        "> The `upper` method we used here is different from the functions we used previously (e.g. `print`). This method is called using the dot notation (`string.upper()`), because this method only works for a particular kind of object that they were designed to work for. Here the `upper` method was written to only work with string objects. `print` function, however, was written to work with many kinds of objects, therefore, we don't use the dot notation."
      ]
    },
    {
      "cell_type": "markdown",
      "id": "32ee0fdd-a294-46da-8434-b27c99d76e37",
      "metadata": {
        "deletable": false,
        "editable": false,
        "nbgrader": {
          "cell_type": "markdown",
          "checksum": "57fa74ce84833d7d794d2b273edbbb07",
          "grade": false,
          "grade_id": "cell-6ccdcb3c0a754840",
          "locked": true,
          "schema_version": 3,
          "solution": false,
          "task": false
        },
        "id": "32ee0fdd-a294-46da-8434-b27c99d76e37"
      },
      "source": [
        "**Question 4.0** <br>\n",
        "\n",
        "Use the method `lower` to change all the words in the following movie title to lower case text: \"The House with a Clock in Its Walls\" and assign the lower case text the name `title`."
      ]
    },
    {
      "cell_type": "code",
      "execution_count": null,
      "id": "c74d88a1-edab-4d76-ad43-6fa16280d62d",
      "metadata": {
        "deletable": false,
        "nbgrader": {
          "cell_type": "code",
          "checksum": "0c0cefe9587a3e36b1e6fcd56336547d",
          "grade": false,
          "grade_id": "cell-cd6693e3c0a44fac",
          "locked": false,
          "schema_version": 3,
          "solution": true,
          "task": false
        },
        "id": "c74d88a1-edab-4d76-ad43-6fa16280d62d"
      },
      "outputs": [],
      "source": [
        "# your code here\n",
        "\n",
        "title"
      ]
    },
    {
      "cell_type": "markdown",
      "id": "9740a3eb-5c4b-4310-9374-11735230d60f",
      "metadata": {
        "deletable": false,
        "editable": false,
        "nbgrader": {
          "cell_type": "markdown",
          "checksum": "b158d894c38620024ea25814f13fa2e4",
          "grade": false,
          "grade_id": "cell-9a0d59a6ece59244",
          "locked": true,
          "schema_version": 3,
          "solution": false,
          "task": false
        },
        "id": "9740a3eb-5c4b-4310-9374-11735230d60f"
      },
      "source": [
        "### 4.1. Multiple Arguments\n",
        "Some functions take multiple arguments, separated by commas. For example, the built-in `max` function returns the maximum argument passed to it."
      ]
    },
    {
      "cell_type": "code",
      "execution_count": null,
      "id": "4a4df2dc-4d41-4393-8389-6a0f6a161962",
      "metadata": {
        "id": "4a4df2dc-4d41-4393-8389-6a0f6a161962"
      },
      "outputs": [],
      "source": [
        "biggest = max(2, 15, 4, 7)\n",
        "biggest"
      ]
    },
    {
      "cell_type": "markdown",
      "id": "d4d21910-6c52-4fca-84d9-421adf6e48d8",
      "metadata": {
        "deletable": false,
        "editable": false,
        "nbgrader": {
          "cell_type": "markdown",
          "checksum": "d7f908cb7994b5930befc7355f5a3b94",
          "grade": false,
          "grade_id": "cell-3ef9de33479b6db4",
          "locked": true,
          "schema_version": 3,
          "solution": false,
          "task": false
        },
        "id": "d4d21910-6c52-4fca-84d9-421adf6e48d8"
      },
      "source": [
        "**Question 4.1** <br>\n",
        "\n",
        "Use the `min` function to find the minumum value of the numbers in the cell above.\n",
        "\n",
        "Assign the value to an object called `smallest`."
      ]
    },
    {
      "cell_type": "code",
      "execution_count": null,
      "id": "77db1c66-dae2-477f-bff4-9369d984cdbf",
      "metadata": {
        "deletable": false,
        "nbgrader": {
          "cell_type": "code",
          "checksum": "b17f944959af64675cb7b8231f6fab2a",
          "grade": false,
          "grade_id": "cell-7a31156e2f666d85",
          "locked": false,
          "schema_version": 3,
          "solution": true,
          "task": false
        },
        "id": "77db1c66-dae2-477f-bff4-9369d984cdbf"
      },
      "outputs": [],
      "source": [
        "# your code here\n",
        "\n",
        "smallest"
      ]
    },
    {
      "cell_type": "markdown",
      "id": "d7b821b4-42ac-4b2e-a093-76475353ea80",
      "metadata": {
        "deletable": false,
        "editable": false,
        "nbgrader": {
          "cell_type": "markdown",
          "checksum": "b66eb16b58eeff76fee9247e7bfd60a1",
          "grade": false,
          "grade_id": "cell-c95f3d7b18991e17",
          "locked": true,
          "schema_version": 3,
          "solution": false,
          "task": false
        },
        "id": "d7b821b4-42ac-4b2e-a093-76475353ea80"
      },
      "source": [
        "## 5. Packages\n",
        "Python has many built-in functions, but we can also use functions that are stored within packages created by other Python users. We are going to use a package, called `pandas`, to load, modify and plot data.\n",
        "This package has already been installed for you. Later in the course you will learn how to install packages so you are free to bring in other tools as you need them for your data analysis."
      ]
    },
    {
      "cell_type": "markdown",
      "id": "a16d8cfc-9925-4aac-a753-6fe32b75ecbf",
      "metadata": {
        "deletable": false,
        "editable": false,
        "nbgrader": {
          "cell_type": "markdown",
          "checksum": "fd7bcfeb5bd402de432b1a3066ca17e8",
          "grade": false,
          "grade_id": "cell-f5abb7dc64d74fb9",
          "locked": true,
          "schema_version": 3,
          "solution": false,
          "task": false
        },
        "id": "a16d8cfc-9925-4aac-a753-6fe32b75ecbf"
      },
      "source": [
        "To use the functions from a package you first need to load it using the `import` function. This needs to be done once per notebook (and a good rule of thumb is to do this at the very top of your notebook so it is easy to see what packages your Python code depends on).\n",
        "\n",
        "Here we also give `pandas` a nickname of `pd`, formally called an alias. This lets us refer to the pandas package more efficiently by just typing `pd` instead of `pandas`. Referring to packages with aliases is very common in Python and you will see us do this with many of the packages we use in this course."
      ]
    },
    {
      "cell_type": "code",
      "execution_count": null,
      "id": "5ae83b86-204b-43f9-96a4-59c9c159b85c",
      "metadata": {
        "id": "5ae83b86-204b-43f9-96a4-59c9c159b85c"
      },
      "outputs": [],
      "source": [
        "import pandas as pd"
      ]
    },
    {
      "cell_type": "markdown",
      "id": "fc7f57cc-3613-4b60-b6e9-1d9a969844ec",
      "metadata": {
        "deletable": false,
        "editable": false,
        "nbgrader": {
          "cell_type": "markdown",
          "checksum": "ed83164c2802f3bab15d92629b176c06",
          "grade": false,
          "grade_id": "cell-93089aa3d8f4872d",
          "locked": true,
          "schema_version": 3,
          "solution": false,
          "task": false
        },
        "id": "fc7f57cc-3613-4b60-b6e9-1d9a969844ec"
      },
      "source": [
        "**Question 5.1** <br>\n",
        "\n",
        "Use the `import` function to load the `numpy` Python package as `np`."
      ]
    },
    {
      "cell_type": "code",
      "execution_count": null,
      "id": "c496ffcf-c70f-4647-85d3-cb73da8d74af",
      "metadata": {
        "deletable": false,
        "nbgrader": {
          "cell_type": "code",
          "checksum": "3dda3aedb06a4528ea2b14f0a0e0f4ee",
          "grade": false,
          "grade_id": "cell-a6558cfd60b4a110",
          "locked": false,
          "schema_version": 3,
          "solution": true,
          "task": false
        },
        "id": "c496ffcf-c70f-4647-85d3-cb73da8d74af"
      },
      "outputs": [],
      "source": [
        "import sys\n",
        "\n",
        "# your code here"
      ]
    },
    {
      "cell_type": "markdown",
      "id": "a8db99e3-9c5f-4739-be2d-cf6fdb8c5f45",
      "metadata": {
        "deletable": false,
        "editable": false,
        "nbgrader": {
          "cell_type": "markdown",
          "checksum": "60d44bbbe9c7aca8db0308cda838ee75",
          "grade": false,
          "grade_id": "cell-3c2442d7dec6c873",
          "locked": true,
          "schema_version": 3,
          "solution": false,
          "task": false
        },
        "id": "a8db99e3-9c5f-4739-be2d-cf6fdb8c5f45"
      },
      "source": [
        "## 6. Looking for Help\n",
        "\n",
        "No one, even experienced, professional programmers remember what every function does, nor do they remember every possible function argument/option. So both experienced and new programmers (like you!) need to look things up, A LOT!\n",
        "\n",
        "### 6.1. Help Files\n",
        "One of the most efficient places to look for help on how a function works is the Python documentation. Let’s say we wanted to pull up the documentation for the `read_csv` method in pandas. We can do this by typing the `?` character followed by the name we want more information about.\n",
        "\n",
        "Run the cell below to find out more about `.read_csv` function from the `pandas` package."
      ]
    },
    {
      "cell_type": "code",
      "execution_count": null,
      "id": "896557bc-4322-4ee7-965a-ea0ffc447a2b",
      "metadata": {
        "id": "896557bc-4322-4ee7-965a-ea0ffc447a2b"
      },
      "outputs": [],
      "source": [
        "?pd.read_csv"
      ]
    },
    {
      "cell_type": "markdown",
      "source": [
        "Google Colab doesn't format the help output very nicely. In this case you can also seek out the online help for the function, located in the overall [pandas documentation here](https://pandas.pydata.org/pandas-docs/stable/reference/api/pandas.read_csv.html#pandas.read_csv)."
      ],
      "metadata": {
        "id": "D9FtPeRCjZBz"
      },
      "id": "D9FtPeRCjZBz"
    },
    {
      "cell_type": "markdown",
      "id": "49365d3a-8605-4d9d-af66-41360a5bafd6",
      "metadata": {
        "deletable": false,
        "editable": false,
        "nbgrader": {
          "cell_type": "markdown",
          "checksum": "6dcba30094149bf83d7870a1a16ffd13",
          "grade": false,
          "grade_id": "cell-0c413972e76e865d",
          "locked": true,
          "schema_version": 3,
          "solution": false,
          "task": false
        },
        "id": "49365d3a-8605-4d9d-af66-41360a5bafd6"
      },
      "source": [
        "At the very top of the output, you will see the function itself and its arguments. Next is a description of what the function does. The bottom of the file specifies the package it is in (in this case, it is pandas). You’ll find that the most helpful sections on this page are “Parameters” and \"Examples\".\n",
        "\n",
        "- **Docstring** at the top gives you an idea of how you would use the function when coding--what the syntax would be and how the function itself is structured.\n",
        "- **Parameters** tells you the different parts that can be added to the function to make it more simple or more complicated. Often the “Parameters” sections doesn’t provide you with step by step instructions, because there are so many different ways that a person can incorporate a function into their code. Instead, they provide users with a general understanding as to what the function could do and parts that could be added. At the end of the day, the user must interpret the help file and figure out how best to use the functions and which parts are most important to include for their particular task.\n",
        "- The **Returns** explains what to expect as an output.\n",
        "- The **Examples** section is often the most useful part of the help file as it shows how a function could be used with real data. It provides a skeleton code that the users can work off of.\n",
        "- Sometimes there is a **See Also** section which may suggest similar functions that could be of use to the user."
      ]
    },
    {
      "cell_type": "markdown",
      "id": "8fd05e61-c1ef-4932-8331-002607e1694c",
      "metadata": {
        "deletable": false,
        "editable": false,
        "nbgrader": {
          "cell_type": "markdown",
          "checksum": "94f1acde735c65bc634cee22658bd907",
          "grade": false,
          "grade_id": "cell-f08d83c97769ca4a",
          "locked": true,
          "schema_version": 3,
          "solution": false,
          "task": false
        },
        "id": "8fd05e61-c1ef-4932-8331-002607e1694c"
      },
      "source": [
        "Beyond the Python help files there are many resources that you can use to find help. [Stack overflow](https://stackoverflow.com/), an online forum, is a great place to go and ask questions such as how to perform a complicated task in Python or why a specific error message is popping up. Oftentimes, a previous user will have already asked your question of interest and received helpful advice from fellow Python users."
      ]
    },
    {
      "cell_type": "markdown",
      "id": "eddd0790-bdb5-46ac-bf45-422ed0c97c82",
      "metadata": {
        "deletable": false,
        "editable": false,
        "nbgrader": {
          "cell_type": "markdown",
          "checksum": "92ad9b744d6511c1e3f0df60aef9676f",
          "grade": false,
          "grade_id": "cell-5aa77532e5f4e3b3",
          "locked": true,
          "schema_version": 3,
          "solution": false,
          "task": false
        },
        "id": "eddd0790-bdb5-46ac-bf45-422ed0c97c82"
      },
      "source": [
        "**Question 6.1** Multiple Choice:\n",
        "<br>\n",
        "\n",
        "Use `?pd.read_csv` or the online pandas help to answer the multiple choice question below. To answer the question, assign the letter associated with the correct answer to a variable in the the code cell below:\n",
        "\n",
        "Which statement below is accurate?\n",
        "\n",
        "A. `pd.read_csv` is useful for reading a comma-separated values (csv) file into a DataFrame.\n",
        "\n",
        "B. It can accept a possible parameter of `warnings=True`.\n",
        "\n",
        "C. The parameter `delimiter` is an alias for the parameter `squeeze`.\n",
        "\n",
        "D. `pd.read_csv` is perfect for reading a table of fixed-width formatted lines into DataFrame.\n",
        "\n",
        "*Assign your answer to an object called `answer6_1`. Make sure your answer is an uppercase letter and is surrounded by quotation marks (e.g. `\"F\"`).*"
      ]
    },
    {
      "cell_type": "code",
      "execution_count": null,
      "id": "2ff21c32-8092-4dfc-9b41-71b52c21dcda",
      "metadata": {
        "deletable": false,
        "nbgrader": {
          "cell_type": "code",
          "checksum": "99eeae8cddde7957a545467e382ec908",
          "grade": false,
          "grade_id": "cell-c8862f329868d4e1",
          "locked": false,
          "schema_version": 3,
          "solution": true,
          "task": false
        },
        "id": "2ff21c32-8092-4dfc-9b41-71b52c21dcda"
      },
      "outputs": [],
      "source": [
        "# your code here\n",
        "\n"
      ]
    },
    {
      "cell_type": "markdown",
      "id": "8e696dc9-380d-49c9-aa94-4091e98649a9",
      "metadata": {
        "deletable": false,
        "editable": false,
        "nbgrader": {
          "cell_type": "markdown",
          "checksum": "763ea4ec7d37bc0495c716e2dc309ba0",
          "grade": false,
          "grade_id": "cell-8a98e30b01245414",
          "locked": true,
          "schema_version": 3,
          "solution": false,
          "task": false
        },
        "id": "8e696dc9-380d-49c9-aa94-4091e98649a9"
      },
      "source": [
        "## 7. Pandas Functions\n",
        "\n",
        "Now that we have learned a little about Jupyter notebooks and Python, let's load a real dataset into Python and explore it. As we do this we will learn more about key data loading, wrangling and visualization functions in Python.\n",
        "\n",
        "### Exercise: Data about Runners!\n",
        "Vickers and Vertosick performed [a study in 2016](https://bmcsportsscimedrehabil.biomedcentral.com/articles/10.1186/s13102-016-0052-y) that aimed to identify what factors had a relationship with race performance of recreational runners so that they could better predict future 5 km, 10 km and marathon race times for individual runners. Such predictions (and knowing what drives these predictions) can help runners by suggesting changes they could make to modifiable factors, such as training, to help them improve race time. Unmodifiable factors that contribute to the prediction, such as age or sex, allow for fair comparisons to be made between different runners.\n",
        "\n",
        "Vickers and Vertosick reasoned that their study is important because all previous research done to predict races times has focused on data from elite athletes. This biased data set means that the predictions generated from them do not necessarily do a good job predicting race times for recreational runners (whose data was not in the dataset that was used to create the model that generates the predictions). Additionally, previous research focused on reporting/measuring factors that require special expertise or equipment that are not freely available to recreational runners. This means that recreational runners may not be able to put their characteristics/measurements for these factors in the race time prediction models and so they will not be able to obtain an accurate prediction, or a prediction at all (in the case of some models).\n",
        "\n",
        "To make a better model, Vickers and Vertosick performed a large survey. They put their survey on the news website [Slate.com](https://slate.com/) attached to a news story about race time prediction. They were able to obtain 2,497 responses. The survey included questions that allowed them to collect a data set that included:\n",
        "- age,\n",
        "- sex,\n",
        "- body mass index (BMI),\n",
        "- whether they are an edurance runner or speed demon,\n",
        "- what type of shoes they wear,\n",
        "- what type of training they do,\n",
        "- race time for 2-3 races they completed in the last 6 months,\n",
        "- self-rated fitness for each race,\n",
        "- and race difficulty for each race.\n",
        "\n",
        "\n",
        "Let's now use this data to explore a question we might be interested in - is there a relationship between 10 km race time and body mass index (BMI) for male runners in this data set. This is an exploratory data analysis question because we stated we looking for a relationship between measurements within the single data set we have and are not interested in yet interpreting beyond it. We can answer this question by visualizing the data as a scatter plot using Python.\n",
        "\n",
        "If, however we are not aiming to extend our findings to a broader population, make predictions, analyze cause or mechanics, we would need to state a different data analyis question and follow-up with different analytical methods to answer that question.\n",
        "\n",
        "To answer our exploratory question (is there a relationship between 10 km race time and body mass index (BMI) for men runners in this data set), we will need to do the following things in Python:\n",
        "\n",
        "1. load the data set into Python\n",
        "2. subset the data we are interested in visualizing from the loaded dataset\n",
        "3. create a new column to get the unit of time in minutes instead of seconds\n",
        "4. create a scatter plot using this modified data\n",
        "\n",
        "> *Note 1 - subsetting the data and converting from seconds to minutes is not absolutely required to answer our question, but it will give us practice manipulating data in Python, and make our data tables and figures more readable.*\n",
        ">\n",
        "> *Note 2 - many historical datasets treated sex as a variable where the possible values are only binary: male or female. This representation in this question reflects how the data were historically collected and is not meant to imply that we believe that sex is binary.*"
      ]
    },
    {
      "cell_type": "markdown",
      "id": "366f8e0b-224e-4a7a-9421-97fca497c7da",
      "metadata": {
        "deletable": false,
        "editable": false,
        "nbgrader": {
          "cell_type": "markdown",
          "checksum": "abaa848aab3689108ab3e082c81af2a2",
          "grade": false,
          "grade_id": "cell-36ecb26cfc323d40",
          "locked": true,
          "schema_version": 3,
          "solution": false,
          "task": false
        },
        "id": "366f8e0b-224e-4a7a-9421-97fca497c7da"
      },
      "source": [
        "### 7.1. Reading Data\n",
        "\n",
        "Let's get started with our first step - loading the data set. The data set we are loading is called `marathon_small.csv` and it contains a subset of the data from the study described above. The file is in the same directory/folder as the file for this notebook. It is a comma separated file (meaning the columns are separated by the `,` character). We often refer to these files as `.csv`'s.\n",
        "\n",
        "\n",
        "```\n",
        "age,bmi,km5_time_seconds,km10_time_seconds,sex\n",
        "25.0,21.6221160888672,NA,2798,female\n",
        "41.0,23.905969619751,1210.0,NA,male\n",
        "25.0,21.6407279968262,994.0,NA,male\n",
        "35.0,23.5923233032227,1075.0,2135,male\n",
        "34.0,22.7064037322998,1186.0,NA,male\n",
        "45.0,42.0875434875488,3240.0,NA,female\n",
        "33.0,22.5182952880859,1292.0,NA,male\n",
        "58.0,25.2340793609619,NA,3420,male\n",
        "29.0,24.505407333374,1440.0,3240,male\n",
        "```\n",
        "\n",
        "We can use the `pd.read_csv` function from the `pandas` package to do this.\n",
        "\n",
        "*Note - the quotes around the filename are important and you will get an error if you forget them.*"
      ]
    },
    {
      "cell_type": "markdown",
      "id": "4b906dac-69b6-4e9e-89ea-5eeac0de418e",
      "metadata": {
        "deletable": false,
        "editable": false,
        "nbgrader": {
          "cell_type": "markdown",
          "checksum": "1118995c9220b689f80909570fec951a",
          "grade": false,
          "grade_id": "cell-ea616e0e2e92f75b",
          "locked": true,
          "schema_version": 3,
          "solution": false,
          "task": false
        },
        "id": "4b906dac-69b6-4e9e-89ea-5eeac0de418e"
      },
      "source": [
        "**Question 7.1.1** <br>\n",
        "\n",
        "Download the `marathon_small.csv` file using [this link](https://drive.google.com/file/d/1zWAwZHXpKRokDRemE4DEZ7V38muS4vEJ/view?usp=sharing). Add it to your workspace in Google cloab and then use the `pd.read_csv` function from `pandas` package to load the data from the `marathon_small.csv` file into Python. Save the data to an object called `marathon_small`. If you need additional help try `?pd.read_csv` and/or ask your neighbours or the Instructional team for help."
      ]
    },
    {
      "cell_type": "code",
      "execution_count": null,
      "id": "2782eea5-8ae4-41c8-a6a3-13a309aa8a83",
      "metadata": {
        "deletable": false,
        "nbgrader": {
          "cell_type": "code",
          "checksum": "e1a5b102804dbfb9ac9f11d62ad44548",
          "grade": false,
          "grade_id": "cell-24c1180c6165d355",
          "locked": false,
          "schema_version": 3,
          "solution": true,
          "task": false
        },
        "id": "2782eea5-8ae4-41c8-a6a3-13a309aa8a83"
      },
      "outputs": [],
      "source": [
        "import pandas as pd\n",
        "\n",
        "# your code here\n",
        "marathon_small = pd.read_csv(\"marathon_small.csv\")\n",
        "\n",
        "marathon_small"
      ]
    },
    {
      "cell_type": "markdown",
      "id": "d4312ae9-40ff-4f98-9cc9-bc20605e67b2",
      "metadata": {
        "deletable": false,
        "editable": false,
        "nbgrader": {
          "cell_type": "markdown",
          "checksum": "9775fe4272ae0992ec03d7ce6dda7d84",
          "grade": false,
          "grade_id": "cell-f95eaaffb33ed0bf",
          "locked": true,
          "schema_version": 3,
          "solution": false,
          "task": false
        },
        "id": "d4312ae9-40ff-4f98-9cc9-bc20605e67b2"
      },
      "source": [
        "### 7.2. Data frames\n",
        "\n",
        "The functions from the `pandas` package give us a data frame and we can look at the structure of a data frame by simply writing its name to view the output."
      ]
    },
    {
      "cell_type": "code",
      "execution_count": null,
      "id": "086cf277-802b-48d2-9b77-1966cc6d282f",
      "metadata": {
        "id": "086cf277-802b-48d2-9b77-1966cc6d282f"
      },
      "outputs": [],
      "source": [
        "marathon_small"
      ]
    },
    {
      "cell_type": "markdown",
      "id": "64716746-28c6-4a25-91b9-3fb51bc86cb2",
      "metadata": {
        "deletable": false,
        "editable": false,
        "nbgrader": {
          "cell_type": "markdown",
          "checksum": "65d06fd2806756ddc3e390cadbe27ae2",
          "grade": false,
          "grade_id": "cell-248613cbb9279a69",
          "locked": true,
          "schema_version": 3,
          "solution": false,
          "task": false
        },
        "id": "64716746-28c6-4a25-91b9-3fb51bc86cb2"
      },
      "source": [
        "This returns the first 5 and last 5 rows of the data frame, and hides the middle rows with an ellipsis (`...`).\n",
        "\n",
        "By default, the first row of a data set is always the **header** that `pd.read_csv` uses to label the column. Therefore, the first row contains descriptive names while the rows below contain the actual data. The bolded column on the left without a header is called the index. For now you can think of this is the row numbers of the data frame.\n",
        "\n",
        "This only shows us a small portion of the data set. You can look at more of the data set by using the `head` method to specify the number of rows you want to print."
      ]
    },
    {
      "cell_type": "code",
      "execution_count": null,
      "id": "ec26cc2f-f3c9-4f13-9e47-82915eb270bb",
      "metadata": {
        "id": "ec26cc2f-f3c9-4f13-9e47-82915eb270bb"
      },
      "outputs": [],
      "source": [
        "marathon_small.head(50)"
      ]
    },
    {
      "cell_type": "markdown",
      "id": "ab2027c6-0894-41bc-a30c-0db8225322f0",
      "metadata": {
        "deletable": false,
        "editable": false,
        "nbgrader": {
          "cell_type": "markdown",
          "checksum": "fba544e31ca9d8adeada12ab2cea0764",
          "grade": false,
          "grade_id": "cell-983b7872ae1629ea",
          "locked": true,
          "schema_version": 3,
          "solution": false,
          "task": false
        },
        "id": "ab2027c6-0894-41bc-a30c-0db8225322f0"
      },
      "source": [
        "This shows us the first 50 rows of the data set. We could look at the entire data by changing the `n` argument but looking at many rows of data can be very long and unnecessary to look at."
      ]
    },
    {
      "cell_type": "markdown",
      "id": "91346b5b-3932-45d6-8c16-d1f2d686826f",
      "metadata": {
        "deletable": false,
        "editable": false,
        "nbgrader": {
          "cell_type": "markdown",
          "checksum": "cab8a642dad5b128747a5d0276c71582",
          "grade": false,
          "grade_id": "cell-fff838ee8a3484b4",
          "locked": true,
          "schema_version": 3,
          "solution": false,
          "task": false
        },
        "id": "91346b5b-3932-45d6-8c16-d1f2d686826f"
      },
      "source": [
        "**Question 7.2.1** <br>\n",
        "To know how many rows and columns there are, use the method `shape`. Assign the number of rows and columns to the object `rows_and_columns`."
      ]
    },
    {
      "cell_type": "code",
      "execution_count": null,
      "id": "72412099-17b3-4234-8e3f-1717715dabc5",
      "metadata": {
        "deletable": false,
        "nbgrader": {
          "cell_type": "code",
          "checksum": "528a6d4de81d9bc716451a44b8a05224",
          "grade": false,
          "grade_id": "cell-1e9d7d4f354cfa7c",
          "locked": false,
          "schema_version": 3,
          "solution": true,
          "task": false
        },
        "id": "72412099-17b3-4234-8e3f-1717715dabc5"
      },
      "outputs": [],
      "source": [
        "# your code here\n",
        "\n",
        "print(rows_and_columns)"
      ]
    },
    {
      "cell_type": "markdown",
      "id": "16cb4d24-35b3-4c13-8998-db585af14c25",
      "metadata": {
        "deletable": false,
        "editable": false,
        "nbgrader": {
          "cell_type": "markdown",
          "checksum": "001962dff7d4cac0b4ca5141b058a008",
          "grade": false,
          "grade_id": "cell-b71bc8f8e1c101d4",
          "locked": true,
          "schema_version": 3,
          "solution": false,
          "task": false
        },
        "id": "16cb4d24-35b3-4c13-8998-db585af14c25"
      },
      "source": [
        "### 7.3. Obtaining a subset of rows OR columns with `[]`\n",
        "\n",
        "One of the most common operations on a data frame is to *filter* its rows (observations) to keep only specific rows based on their entries in one or more columns. To do this we can use the `[]` operation on a `pandas` data frame.\n",
        "\n",
        "For example, if we had a data frame (named `data`) that looked like this:\n",
        "\n",
        "```\n",
        "  colour size speed\n",
        "1    red   15  12.3\n",
        "2   blue   19  34.1\n",
        "3   blue   20  23.2\n",
        "4    red   22  21.9\n",
        "5   blue   12  33.6\n",
        "6   blue   23  28.8\n",
        "```\n",
        "\n",
        "We could use the first line of the code in the image below to filter for rows where the colour has the value of \"blue\". The second line of code below would let us filter for rows where the size has a value greater than 20."
      ]
    },
    {
      "cell_type": "markdown",
      "id": "43d352fc-373b-4c73-9712-5f7662782c93",
      "metadata": {
        "deletable": false,
        "editable": false,
        "nbgrader": {
          "cell_type": "markdown",
          "checksum": "dd7726596ba4714f41ff9877477a0f8e",
          "grade": false,
          "grade_id": "cell-9e632d9130c06aa0",
          "locked": true,
          "schema_version": 3,
          "solution": false,
          "task": false
        },
        "id": "43d352fc-373b-4c73-9712-5f7662782c93"
      },
      "source": [
        "![python snippet](https://drive.google.com/uc?id=1MJhV96jhnNDWSS8OYAn3EbS97Uy7H3jX)"
      ]
    },
    {
      "cell_type": "markdown",
      "id": "74be1685-7ff0-419d-9e32-d4c295e250fe",
      "metadata": {
        "deletable": false,
        "editable": false,
        "nbgrader": {
          "cell_type": "markdown",
          "checksum": "11b85080bac5f5266b55b6214208b96e",
          "grade": false,
          "grade_id": "cell-5cc491398e4a2af8",
          "locked": true,
          "schema_version": 3,
          "solution": false,
          "task": false
        },
        "id": "74be1685-7ff0-419d-9e32-d4c295e250fe"
      },
      "source": [
        "**Question 7.3.1** <br>\n",
        "\n",
        "Use the `[]` operation to subset your data frame `marathon_small` so it only contains survey data from males. Assign your new filtered data frame to an object called `marathon_filtered_rows`."
      ]
    },
    {
      "cell_type": "code",
      "execution_count": null,
      "id": "9750f5fb-0cf1-4b75-9649-48c1bd8a88a5",
      "metadata": {
        "deletable": false,
        "nbgrader": {
          "cell_type": "code",
          "checksum": "9c5dd0855ceac74c37191267a96fc5ee",
          "grade": false,
          "grade_id": "cell-f9d75cbfa165d08e",
          "locked": false,
          "schema_version": 3,
          "solution": true,
          "task": false
        },
        "id": "9750f5fb-0cf1-4b75-9649-48c1bd8a88a5"
      },
      "outputs": [],
      "source": [
        "# your code here\n",
        "\n",
        "marathon_filtered_rows"
      ]
    },
    {
      "cell_type": "markdown",
      "id": "a9dbb042-6062-4792-b48d-5bad8eac5a7c",
      "metadata": {
        "deletable": false,
        "editable": false,
        "nbgrader": {
          "cell_type": "markdown",
          "checksum": "b916d8563d43721aadafd8783dd93f1c",
          "grade": false,
          "grade_id": "cell-bf7d026515498f76",
          "locked": true,
          "schema_version": 3,
          "solution": false,
          "task": false
        },
        "id": "a9dbb042-6062-4792-b48d-5bad8eac5a7c"
      },
      "source": [
        "**Question 7.3.2** <br>\n",
        "The `[]` operation can also be used to subset columns via the syntax `data[['column1, 'column2']]`. Use the `[]` operation to subset your data frame `marathon_small` so it only contains the columns \"bmi\" and \"km10_time_seconds\". Assign your new filtered data frame to an object called `marathon_filtered_columns`."
      ]
    },
    {
      "cell_type": "code",
      "execution_count": null,
      "id": "4b4bdf0e-c5a7-4165-9711-50f411dfb9bd",
      "metadata": {
        "deletable": false,
        "nbgrader": {
          "cell_type": "code",
          "checksum": "2d3efb7c5185204d05f72a5439be1dad",
          "grade": false,
          "grade_id": "cell-3951f3d869ab0b99",
          "locked": false,
          "schema_version": 3,
          "solution": true,
          "task": false
        },
        "id": "4b4bdf0e-c5a7-4165-9711-50f411dfb9bd"
      },
      "outputs": [],
      "source": [
        "# your code here\n",
        "\n",
        "marathon_filtered_columns"
      ]
    },
    {
      "cell_type": "markdown",
      "id": "082e1774-3acd-4158-855a-16f1d5982cfe",
      "metadata": {
        "deletable": false,
        "editable": false,
        "nbgrader": {
          "cell_type": "markdown",
          "checksum": "3b833e258c0397b5c057885904438230",
          "grade": false,
          "grade_id": "cell-bf95a8e094221faa",
          "locked": true,
          "schema_version": 3,
          "solution": false,
          "task": false
        },
        "id": "082e1774-3acd-4158-855a-16f1d5982cfe"
      },
      "source": [
        "### 7.4. Obtaining a subset of rows AND columns with `loc[]`\n",
        "\n",
        "The `[]` operation is only used when you want to either filter rows **or** select columns;\n",
        "it cannot be used to do both operations at the same time. This is where `loc[]`\n",
        "comes in. When we use `loc` to select columns and rows by labels in a dataframe we always specify row condition first, and then the list of columns we want: `data.loc[data['column1'] == row_condition, ['column1', 'column2']]`."
      ]
    },
    {
      "cell_type": "markdown",
      "id": "cfe54e4f-4680-434b-8e24-aa089b9385dc",
      "metadata": {
        "deletable": false,
        "editable": false,
        "nbgrader": {
          "cell_type": "markdown",
          "checksum": "8830187cf83d4b131b566168ed34b2cd",
          "grade": false,
          "grade_id": "cell-a92cdf20d8099781",
          "locked": true,
          "schema_version": 3,
          "solution": false,
          "task": false
        },
        "id": "cfe54e4f-4680-434b-8e24-aa089b9385dc"
      },
      "source": [
        "**Question 7.4.1** <br>\n",
        "\n",
        "Use `loc` to keep only the male runners and the columns `bmi` and `km10_time_seconds` from `marathon_small`, i.e. perform both the steps from the previous two question in a single operation. Assign your new filtered data frame to an object called `marathon_male`.\n",
        "\n",
        "*Make sure you select `bmi` first and then `km10_time_seconds`*!"
      ]
    },
    {
      "cell_type": "code",
      "execution_count": null,
      "id": "c5cb8c0b-31e4-493c-a639-f899dac4e278",
      "metadata": {
        "deletable": false,
        "nbgrader": {
          "cell_type": "code",
          "checksum": "927a67897c9645081db1d3d680a9b875",
          "grade": false,
          "grade_id": "cell-15ab614529f2f742",
          "locked": false,
          "schema_version": 3,
          "solution": true,
          "task": false
        },
        "id": "c5cb8c0b-31e4-493c-a639-f899dac4e278"
      },
      "outputs": [],
      "source": [
        "# your code here\n",
        "\n",
        "marathon_male"
      ]
    },
    {
      "cell_type": "markdown",
      "id": "9498a4c6-0afa-43d8-bdba-a846d085f180",
      "metadata": {
        "deletable": false,
        "editable": false,
        "nbgrader": {
          "cell_type": "markdown",
          "checksum": "8fbaebadf844eb9d91fe7438b7cab3b8",
          "grade": false,
          "grade_id": "cell-999e4ac260a20227",
          "locked": true,
          "schema_version": 3,
          "solution": false,
          "task": false
        },
        "id": "9498a4c6-0afa-43d8-bdba-a846d085f180"
      },
      "source": [
        "**Question 7.4.2** <br>\n",
        "\n",
        "What are the units of the time taken to complete a run of 10 km? Assign your answer to an object called `answer7_4_2`. Write your answer in lower case. Place your answer between quotation marks.\n",
        "\n",
        "\n",
        "*Hint: scroll up and look at the introduction to this exercise.*"
      ]
    },
    {
      "cell_type": "code",
      "execution_count": null,
      "id": "e0c0f92b-684c-4799-aba1-d082a3bfdf66",
      "metadata": {
        "deletable": false,
        "nbgrader": {
          "cell_type": "code",
          "checksum": "f775f1386e6c0ae78b40d8aac88ee7b0",
          "grade": false,
          "grade_id": "cell-fef84cfc236ffa82",
          "locked": false,
          "schema_version": 3,
          "solution": true,
          "task": false
        },
        "id": "e0c0f92b-684c-4799-aba1-d082a3bfdf66"
      },
      "outputs": [],
      "source": [
        "# your code here\n"
      ]
    },
    {
      "cell_type": "markdown",
      "id": "a4283348-c67f-4fcd-8c2b-d1af48c25eb8",
      "metadata": {
        "deletable": false,
        "editable": false,
        "nbgrader": {
          "cell_type": "markdown",
          "checksum": "7beaf798cf09a2119b213a22cb2af41e",
          "grade": false,
          "grade_id": "cell-da75a783fe460961",
          "locked": true,
          "schema_version": 3,
          "solution": false,
          "task": false
        },
        "id": "a4283348-c67f-4fcd-8c2b-d1af48c25eb8"
      },
      "source": [
        "**Question 7.4.3**\n",
        "<br>\n",
        "\n",
        "What are the units for time (e.g., seconds, minutes, hours) that we would like to use when plotting BMI against time taken to run 10 km? Assign your answer to an object called `answer7_4_3`. Write your answer in lower case. Place your answer between quotation marks.\n",
        "\n",
        "*Hint: scroll up and look at the introduction to this exercise.*"
      ]
    },
    {
      "cell_type": "code",
      "execution_count": null,
      "id": "d2a2c8a0-e158-4d07-bc7b-e0ee76c93e02",
      "metadata": {
        "deletable": false,
        "nbgrader": {
          "cell_type": "code",
          "checksum": "76c53b64a9fe5fb5a96b59bc82294c19",
          "grade": false,
          "grade_id": "cell-36f7cd2455f091e4",
          "locked": false,
          "schema_version": 3,
          "solution": true,
          "task": false
        },
        "id": "d2a2c8a0-e158-4d07-bc7b-e0ee76c93e02"
      },
      "outputs": [],
      "source": [
        "# your code here\n"
      ]
    },
    {
      "cell_type": "markdown",
      "id": "85b8862c-79a7-4eb7-a745-25cabfdec8cb",
      "metadata": {
        "deletable": false,
        "editable": false,
        "nbgrader": {
          "cell_type": "markdown",
          "checksum": "e86896353e1046da64a3db788f80774c",
          "grade": false,
          "grade_id": "cell-ef748fc407ce6033",
          "locked": true,
          "schema_version": 3,
          "solution": false,
          "task": false
        },
        "id": "85b8862c-79a7-4eb7-a745-25cabfdec8cb"
      },
      "source": [
        "### 7.5. Assign\n",
        "\n",
        "The method `assign` is used to add columns to a dataset, typically by making use of existing columns to compute a new column.\n",
        "\n",
        "![python snippet](https://drive.google.com/uc?id=1_s5D19D9mFxb0xm-bUaOh-PayESAnSN1)\n",
        "\n",
        "In the example above, we are creating a new column named `new_column` that is equal to `old_column * 10` and saving the results to an object called `data_mutated`."
      ]
    },
    {
      "cell_type": "markdown",
      "id": "85e2b0f5-b732-4050-bbe1-4094e9c42c2d",
      "metadata": {
        "deletable": false,
        "editable": false,
        "nbgrader": {
          "cell_type": "markdown",
          "checksum": "81a843bbb22c4015675881ab62658284",
          "grade": false,
          "grade_id": "cell-0f02d49ecca99520",
          "locked": true,
          "schema_version": 3,
          "solution": false,
          "task": false
        },
        "id": "85e2b0f5-b732-4050-bbe1-4094e9c42c2d"
      },
      "source": [
        "**Question 7.5.1**<br>\n",
        "\n",
        "Add a new column to our `marathon_male` dataset called `km10_time_minutes` that is equal to `km10_time_seconds/60.` Assign your answer to an object called `marathon_minutes`."
      ]
    },
    {
      "cell_type": "code",
      "execution_count": null,
      "id": "80a1ee37-e318-4e7a-9f94-3dad134e16f1",
      "metadata": {
        "deletable": false,
        "nbgrader": {
          "cell_type": "code",
          "checksum": "2e969c361f98c71d750cff80bfd05f07",
          "grade": false,
          "grade_id": "cell-c2294c924457e667",
          "locked": false,
          "schema_version": 3,
          "solution": true,
          "task": false
        },
        "id": "80a1ee37-e318-4e7a-9f94-3dad134e16f1"
      },
      "outputs": [],
      "source": [
        "# your code here\n",
        "\n",
        "marathon_minutes"
      ]
    },
    {
      "cell_type": "markdown",
      "id": "ffedd25a-8e82-42e4-9e20-dd40631abb2d",
      "metadata": {
        "deletable": false,
        "editable": false,
        "nbgrader": {
          "cell_type": "markdown",
          "checksum": "89818a89cf63872f344cc1c9f887cbee",
          "grade": false,
          "grade_id": "cell-b81ae2307202b486",
          "locked": true,
          "schema_version": 3,
          "solution": false,
          "task": false
        },
        "id": "ffedd25a-8e82-42e4-9e20-dd40631abb2d"
      },
      "source": [
        "### 7.5. Visualization\n",
        "`Altair` is powerful visualization package for Python. The fundamental object in `Altair` is the `Chart`, which takes a data frame as a single argument `alt.Chart(dataframe)`. With a chart object in hand, we can now specify how we would like the data to be visualized. We first indicate what kind of graphical mark we want to use to represent the data. We can set the mark attribute of the chart object using the the `Chart.mark_*` methods. The `encode` method builds a mapping between visual encoding channels (such as x, y, color, shape, size, etc.) and columns in the dataset.\n",
        "\n",
        "![Image Description](https://drive.google.com/uc?id=1rCgEut4HnoFZp1koVprlknVE2vU8dUh-)\n",
        "\n",
        "\n",
        "Let's plot a scatterplot with the `bmi` on the x axis and `km10_time_minutes` on the y axis."
      ]
    },
    {
      "cell_type": "markdown",
      "id": "a58f0e39-f46c-47b8-bc63-0deace3b5b27",
      "metadata": {
        "deletable": false,
        "editable": false,
        "nbgrader": {
          "cell_type": "markdown",
          "checksum": "972ff59531d7ac89eef5c4a57283bc23",
          "grade": false,
          "grade_id": "cell-8a5d123874f35303",
          "locked": true,
          "schema_version": 3,
          "solution": false,
          "task": false
        },
        "id": "a58f0e39-f46c-47b8-bc63-0deace3b5b27"
      },
      "source": [
        "Before we start plotting use `Altair`, we need to import the package. You'll see we give it the alias `alt`."
      ]
    },
    {
      "cell_type": "code",
      "execution_count": null,
      "id": "da1b0253-a102-4dc1-a613-f956100867ac",
      "metadata": {
        "id": "da1b0253-a102-4dc1-a613-f956100867ac"
      },
      "outputs": [],
      "source": [
        "import altair as alt"
      ]
    },
    {
      "cell_type": "code",
      "execution_count": null,
      "id": "9c1dc3ae-3c88-470d-ad60-570afb6e3b41",
      "metadata": {
        "id": "9c1dc3ae-3c88-470d-ad60-570afb6e3b41"
      },
      "outputs": [],
      "source": [
        "# Run this cell to create a scatterplot of BMI against the time it took to run 10 km.\n",
        "\n",
        "plot = alt.Chart(marathon_minutes).mark_point().encode(\n",
        "    x=\"bmi\",\n",
        "    y=\"km10_time_minutes\"\n",
        ")\n",
        "plot"
      ]
    },
    {
      "cell_type": "markdown",
      "id": "33649ed4-1915-48e0-ae3e-57bffa0e48e4",
      "metadata": {
        "deletable": false,
        "editable": false,
        "nbgrader": {
          "cell_type": "markdown",
          "checksum": "c329a956cf8570e6786693298fab4732",
          "grade": false,
          "grade_id": "cell-96adbcf87f4c3870",
          "locked": true,
          "schema_version": 3,
          "solution": false,
          "task": false
        },
        "id": "33649ed4-1915-48e0-ae3e-57bffa0e48e4"
      },
      "source": [
        "**Question 7.6.1** Multiple Choice\n",
        "<br>\n",
        "\n",
        "Looking at the graph above, choose a statement above that most reflects what we see.\n",
        "\n",
        "A. There appears to be no relationship between 10 km run time and body mass index. As the value for body mass index increases we see neither an increase nor decrease in the time it takes to run 10 km.\n",
        "\n",
        "B. There may be a positive relationship between 10 km run time and body mass index. As the value for body mass index increases, so does the time it takes to run 10 km.\n",
        "\n",
        "C. There may be a negative relationship between 10 km run time and body mass index. As the value for body mass index increases, the time it takes to run 10 km decreases.\n",
        "\n",
        "\n",
        "\n",
        "\n",
        "*Assign your answer to an object called `answer7_6_1`. Make sure your answer is an uppercase letter and is surrounded by quotation marks (e.g. `\"F\"`).*"
      ]
    },
    {
      "cell_type": "code",
      "execution_count": null,
      "id": "35ebf43b-881a-4c45-b949-92eb40fcd4ec",
      "metadata": {
        "deletable": false,
        "nbgrader": {
          "cell_type": "code",
          "checksum": "06938f52754bd1a353708c37bebd6a1c",
          "grade": false,
          "grade_id": "cell-864372beefdd3c33",
          "locked": false,
          "schema_version": 3,
          "solution": true,
          "task": false
        },
        "id": "35ebf43b-881a-4c45-b949-92eb40fcd4ec"
      },
      "outputs": [],
      "source": [
        "# your code here\n"
      ]
    },
    {
      "cell_type": "markdown",
      "id": "f109d747-3674-4dc6-aa7e-37b844e411b0",
      "metadata": {
        "deletable": false,
        "editable": false,
        "nbgrader": {
          "cell_type": "markdown",
          "checksum": "001cc9fab61990fa7a56568835c57146",
          "grade": false,
          "grade_id": "cell-1858f04c6c64e648",
          "locked": true,
          "schema_version": 3,
          "solution": false,
          "task": false
        },
        "id": "f109d747-3674-4dc6-aa7e-37b844e411b0"
      },
      "source": [
        "The visualization code above barely scratches the surface of what `Altair`, and Python as a whole, are capable of. Not only are there far more choices about the kinds of plots available, but there are many, many options for customizing the look and feel of each graph. You can choose the font, the font size, the colors, the style of the axes, etc.\n",
        "\n",
        "Let’s dig a little deeper into just a couple of options that you can add to any of your graphs to make them look a little better. For example, you can change the text of the x-axis label or the y-axis label by specifying the title inside `alt.X()` or `alt.Y()` inside the encoder. You can also change the font size using the `configure_axis` method. Let’s do that for the scatterplot to make the labels easier to read."
      ]
    },
    {
      "cell_type": "code",
      "execution_count": null,
      "id": "36d315d9-f775-47cd-bc8b-3eb27962dcd6",
      "metadata": {
        "id": "36d315d9-f775-47cd-bc8b-3eb27962dcd6"
      },
      "outputs": [],
      "source": [
        "# Run this cell.\n",
        "# You can replace the axes with whatever you wish to label.\n",
        "# After running the cell once, try changing the axes to something else.\n",
        "\n",
        "marathon_plot = alt.Chart(marathon_minutes).mark_point().encode(\n",
        "    x=alt.X(\"bmi\").title(\"Body Mass Index\"),\n",
        "    y=alt.Y(\"km10_time_minutes\").title(\"10 km run time (minutes)\"),\n",
        ").configure_axis(\n",
        "    labelFontSize=12,\n",
        "    titleFontSize=12,\n",
        ")\n",
        "marathon_plot"
      ]
    },
    {
      "cell_type": "markdown",
      "id": "a5fe9198-87e4-4d07-8f69-72359ae2cb6d",
      "metadata": {
        "deletable": false,
        "editable": false,
        "nbgrader": {
          "cell_type": "markdown",
          "checksum": "b7063a8549ffac09acf96ebd8e830d67",
          "grade": false,
          "grade_id": "cell-bfbcb171b4f01e80",
          "locked": true,
          "schema_version": 3,
          "solution": false,
          "task": false
        },
        "id": "a5fe9198-87e4-4d07-8f69-72359ae2cb6d"
      },
      "source": [
        "## Attributions\n",
        "- UC Berkley [Data 8 Public Materials](https://github.com/data-8/data8assets)\n",
        "- UBC [Key Capabilities in Data Science Programming in Python course](https://github.com/UBC-MDS/prog-python-data-science-students)"
      ]
    }
  ],
  "metadata": {
    "jupytext": {
      "encoding": "# -*- coding: utf-8 -*-"
    },
    "kernelspec": {
      "display_name": "Python 3 (ipykernel)",
      "language": "python",
      "name": "python3"
    },
    "language_info": {
      "codemirror_mode": {
        "name": "ipython",
        "version": 3
      },
      "file_extension": ".py",
      "mimetype": "text/x-python",
      "name": "python",
      "nbconvert_exporter": "python",
      "pygments_lexer": "ipython3",
      "version": "3.11.4"
    },
    "colab": {
      "provenance": [],
      "toc_visible": true,
      "include_colab_link": true
    }
  },
  "nbformat": 4,
  "nbformat_minor": 5
}